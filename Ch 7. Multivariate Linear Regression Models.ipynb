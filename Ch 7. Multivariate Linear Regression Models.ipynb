{
 "cells": [
  {
   "cell_type": "code",
   "execution_count": 1,
   "id": "b98512d9",
   "metadata": {},
   "outputs": [],
   "source": [
    "# import packages\n",
    "import pandas as pd\n",
    "import numpy as np\n",
    "from scipy import stats\n",
    "from scipy.stats import f,chi2\n",
    "import matplotlib.pyplot as plt\n",
    "from numpy.linalg import inv, det\n",
    "from sklearn.linear_model import LinearRegression\n",
    "from statsmodels.multivariate.manova import MANOVA\n",
    "import statsmodels.formula.api as smf\n",
    "import warnings\n",
    "warnings.filterwarnings(\"ignore\")"
   ]
  },
  {
   "cell_type": "code",
   "execution_count": 2,
   "id": "f44cf7c8",
   "metadata": {},
   "outputs": [
    {
     "data": {
      "text/html": [
       "<div>\n",
       "<style scoped>\n",
       "    .dataframe tbody tr th:only-of-type {\n",
       "        vertical-align: middle;\n",
       "    }\n",
       "\n",
       "    .dataframe tbody tr th {\n",
       "        vertical-align: top;\n",
       "    }\n",
       "\n",
       "    .dataframe thead th {\n",
       "        text-align: right;\n",
       "    }\n",
       "</style>\n",
       "<table border=\"1\" class=\"dataframe\">\n",
       "  <thead>\n",
       "    <tr style=\"text-align: right;\">\n",
       "      <th></th>\n",
       "      <th>Y1</th>\n",
       "      <th>Y2</th>\n",
       "      <th>Z1</th>\n",
       "      <th>Z2</th>\n",
       "      <th>Z3</th>\n",
       "      <th>Z4</th>\n",
       "      <th>Z5</th>\n",
       "    </tr>\n",
       "  </thead>\n",
       "  <tbody>\n",
       "    <tr>\n",
       "      <th>0</th>\n",
       "      <td>3389</td>\n",
       "      <td>3149</td>\n",
       "      <td>1</td>\n",
       "      <td>7500</td>\n",
       "      <td>220</td>\n",
       "      <td>0</td>\n",
       "      <td>140</td>\n",
       "    </tr>\n",
       "    <tr>\n",
       "      <th>1</th>\n",
       "      <td>1101</td>\n",
       "      <td>653</td>\n",
       "      <td>1</td>\n",
       "      <td>1975</td>\n",
       "      <td>200</td>\n",
       "      <td>0</td>\n",
       "      <td>100</td>\n",
       "    </tr>\n",
       "    <tr>\n",
       "      <th>2</th>\n",
       "      <td>1131</td>\n",
       "      <td>810</td>\n",
       "      <td>0</td>\n",
       "      <td>3600</td>\n",
       "      <td>205</td>\n",
       "      <td>60</td>\n",
       "      <td>111</td>\n",
       "    </tr>\n",
       "    <tr>\n",
       "      <th>3</th>\n",
       "      <td>596</td>\n",
       "      <td>448</td>\n",
       "      <td>1</td>\n",
       "      <td>675</td>\n",
       "      <td>160</td>\n",
       "      <td>60</td>\n",
       "      <td>120</td>\n",
       "    </tr>\n",
       "    <tr>\n",
       "      <th>4</th>\n",
       "      <td>896</td>\n",
       "      <td>844</td>\n",
       "      <td>1</td>\n",
       "      <td>750</td>\n",
       "      <td>185</td>\n",
       "      <td>70</td>\n",
       "      <td>83</td>\n",
       "    </tr>\n",
       "  </tbody>\n",
       "</table>\n",
       "</div>"
      ],
      "text/plain": [
       "     Y1    Y2  Z1    Z2   Z3  Z4   Z5\n",
       "0  3389  3149   1  7500  220   0  140\n",
       "1  1101   653   1  1975  200   0  100\n",
       "2  1131   810   0  3600  205  60  111\n",
       "3   596   448   1   675  160  60  120\n",
       "4   896   844   1   750  185  70   83"
      ]
     },
     "execution_count": 2,
     "metadata": {},
     "output_type": "execute_result"
    }
   ],
   "source": [
    "amit = pd.read_csv('amit.dat',header = None, delim_whitespace=True)\n",
    "amit.columns = ['Y1', 'Y2', 'Z1', 'Z2', 'Z3', 'Z4', 'Z5']\n",
    "amit.head()"
   ]
  },
  {
   "cell_type": "markdown",
   "id": "2cad310f",
   "metadata": {},
   "source": [
    "# Model\n",
    "\n"
   ]
  },
  {
   "cell_type": "markdown",
   "id": "8bad1c30",
   "metadata": {},
   "source": [
    "$Y_{n \\times m} = Z_{n \\times (r+1)}\\beta_{(r+1) \\times m} + \\epsilon_{n \\times m}$ <br>\n",
    "<br>\n",
    "$E(\\underset{\\sim}{\\epsilon_{(i)}}=\\underset{\\sim}{0} $ , $Var(\\underset{\\sim}{\\epsilon_{(i)}})=\\sigma_{ii}I$ , and $Cov(\\underset{\\sim}{\\epsilon_{(i)}},\\underset{\\sim}{\\epsilon_{(k)}}) = \\sigma_{ik}I$ where $i,k=1,2,...,m$"
   ]
  },
  {
   "cell_type": "markdown",
   "id": "3ba9594b",
   "metadata": {},
   "source": [
    "$i$th response $\\underset{\\sim}{Y_{(i)}}$: <br>\n",
    "$\\underset{\\sim}{Y_{(i)}} = Z \\underset{\\sim}{\\beta_{(i)}} + \\underset{\\sim}{\\epsilon_{(i)}}$ with $Cor(\\underset{\\sim}{\\epsilon_{(i)}}) = \\sigma_{ii}I, \\; \\underset{\\sim}{\\hat{\\beta_{(i)}}} = (Z'Z)^{-1}Z'\\underset{\\sim}{Y_{(i)}}$"
   ]
  },
  {
   "cell_type": "markdown",
   "id": "19c52117",
   "metadata": {},
   "source": [
    "# Q1. Using the data in Table 7.6, answer the following questions. The data is in file ‘amit.dat’ with the variables of Y1, Y2, Z1, Z2, Z3, Z4, Z5."
   ]
  },
  {
   "cell_type": "markdown",
   "id": "fa8af594",
   "metadata": {},
   "source": [
    "## a. Perform a multivariate regression analysis. Analyze the residuals to check the multivariate normal assumption (Python and cqplot)."
   ]
  },
  {
   "cell_type": "markdown",
   "id": "88ffb1cf",
   "metadata": {},
   "source": [
    "- Collecting Univariate Least Squares Estimates: <br>\n",
    "$\\hat{\\beta}_{(r+1) \\times m} = (Z'Z^{-1}Z')Y$ "
   ]
  },
  {
   "cell_type": "code",
   "execution_count": 3,
   "id": "91408ebd",
   "metadata": {},
   "outputs": [
    {
     "name": "stdout",
     "output_type": "stream",
     "text": [
      "The result of Multivariate Regression \n",
      "\n",
      "Estimated parameters for betas : \n",
      "\n",
      "             0            1\n",
      "0 -2879.478246 -2728.708544\n",
      "1   675.650781   763.029762\n",
      "2     0.284851     0.306373\n",
      "3    10.272133     8.896198\n",
      "4     7.251171     7.205560\n",
      "5     7.598240     4.987051\n"
     ]
    }
   ],
   "source": [
    "y = np.array(amit[['Y1', 'Y2']])\n",
    "amit['constant']= np.ones(shape = (len(amit),))\n",
    "z = amit[['constant','Z1', 'Z2', 'Z3', 'Z4', 'Z5']]\n",
    "b_hat = np.linalg.inv(z.transpose()@z)@z.transpose()@y\n",
    "print(\"The result of Multivariate Regression \\n\")\n",
    "print(\"Estimated parameters for betas : \\n\")\n",
    "print(b_hat)"
   ]
  },
  {
   "cell_type": "code",
   "execution_count": 4,
   "id": "df627c0f",
   "metadata": {},
   "outputs": [
    {
     "name": "stdout",
     "output_type": "stream",
     "text": [
      "Intercept   -2879.478246\n",
      "Z1            675.650781\n",
      "Z2              0.284851\n",
      "Z3             10.272133\n",
      "Z4              7.251171\n",
      "Z5              7.598240\n",
      "dtype: float64 \n",
      "\n",
      "Intercept   -2728.708544\n",
      "Z1            763.029762\n",
      "Z2              0.306373\n",
      "Z3              8.896198\n",
      "Z4              7.205560\n",
      "Z5              4.987051\n",
      "dtype: float64\n"
     ]
    }
   ],
   "source": [
    "b1 = smf.ols(\"Y1~Z1+Z2+Z3+Z4+Z5\", data=amit).fit()\n",
    "b2 = smf.ols(\"Y2~Z1+Z2+Z3+Z4+Z5\", data=amit).fit()\n",
    "print(b1.params,'\\n')\n",
    "print(b2.params)"
   ]
  },
  {
   "cell_type": "markdown",
   "id": "f497ad44",
   "metadata": {},
   "source": [
    "The result of the multiple regression seems to match!"
   ]
  },
  {
   "cell_type": "code",
   "execution_count": 5,
   "id": "0daa4577",
   "metadata": {
    "scrolled": true
   },
   "outputs": [],
   "source": [
    "# Check the multivariate normal assumption\n",
    "\n",
    "def cqplot(df):\n",
    "    ''' calculate the confidence interval for correlation between two input variables.\n",
    "    Parameters\n",
    "    ----------\n",
    "    df : input dataframe\n",
    "    var1, var2, var3 : input variables\n",
    "    plot_title : describes what variables were used for the chi-square plot\n",
    "      \n",
    "    Returns\n",
    "    -------\n",
    "    chi-square plot\n",
    "    '''\n",
    "    # step1: order the squared distances\n",
    "    ## calculate the squared distances\n",
    "    x = df.copy()\n",
    "    m = df.mean()\n",
    "    s = df.cov()\n",
    "    s_inv = np.linalg.inv(s)\n",
    "    d = np.zeros(len(df))\n",
    "    for i in range(len(df)):\n",
    "        d[i] = (x.iloc[i,]-m).dot(s_inv).dot(x.iloc[i,]-m)\n",
    "    order = sorted(d)\n",
    "\n",
    "    # step 2: calculate the probability values\n",
    "    n = len(df)\n",
    "    j = list(range(1,(n+1)))\n",
    "    p = (np.asarray(j) - 0.5) /n\n",
    "\n",
    "    # step 3: calculate the quantiles of the chi-square distribution\n",
    "    order_d= np.asarray(order).reshape(-1,1)\n",
    "    q = chi2.ppf(p, df = len(x.columns))\n",
    "    # step 4: plot the pairs of observations\n",
    "    plt.scatter(q,order_d)\n",
    "    plt.title(\"Chi-square plot for the %s variables\" %str(df.columns.to_list()))\n",
    "    plt.ylabel('Sample Quantile')\n",
    "    plt.xlabel('Quantile of Chi-Square distribution')\n",
    "    \n",
    "     # checking the straightness of the Chi-Square plot\n",
    "    line_fitter = LinearRegression()\n",
    "    line_fitter.fit(q.reshape(-1,1),order_d)\n",
    "    plt.plot(q,line_fitter.predict(q.reshape(-1,1)), 'red')\n",
    "    \n",
    "    plt.show()"
   ]
  },
  {
   "cell_type": "markdown",
   "id": "eeacef7e",
   "metadata": {},
   "source": [
    "- Errors :<br>\n",
    "$\\hat{\\epsilon} =  Y - Z \\hat{\\beta} = [\\underset{\\sim}{Y_{(1)}}- Z \\underset{\\sim}{\\hat{\\beta}_{(1)}} : \\underset{\\sim}{Y_{(2)}}- Z \\underset{\\sim}{\\hat{\\beta}_{(2)}} :\\;  ... \\; : \\underset{\\sim}{Y_{(m)}}- Z \\underset{\\sim}{\\hat{\\beta}_{(m)}}]$ \n",
    "- Residual vectors [$\\underset{\\sim}{\\epsilon_{j1}}, \\underset{\\sim}{\\epsilon_{j2}},..., \\underset{\\sim}{\\epsilon_{jm}}$] can be examined for multivariate normality."
   ]
  },
  {
   "cell_type": "code",
   "execution_count": 6,
   "id": "2ebf23db",
   "metadata": {},
   "outputs": [
    {
     "data": {
      "image/png": "[encoded data removed]",
      "text/plain": [
       "<Figure size 432x288 with 1 Axes>"
      ]
     },
     "metadata": {
      "needs_background": "light"
     },
     "output_type": "display_data"
    }
   ],
   "source": [
    "e = np.subtract(y , np.matmul(z,b_hat))\n",
    "cqplot(e)"
   ]
  },
  {
   "cell_type": "markdown",
   "id": "8a87ff4e",
   "metadata": {},
   "source": [
    "In general, it seems that the multivariate normal assumption holds for the amit data."
   ]
  },
  {
   "cell_type": "markdown",
   "id": "a18a6ffe",
   "metadata": {},
   "source": [
    "- Error Sum of Squares: <br>\n",
    "$(Y-Z\\hat{\\beta})'(Y-Z\\hat{\\beta}) = \\hat{\\epsilon}' \\hat{\\epsilon}$ <br>\n",
    "Diagonal elements: Error S.S. for univariate least squares $(\\underset{\\sim}{Y_{(i)}} - Z \\underset{\\sim}{\\hat{\\beta_{(i)}}})'(\\underset{\\sim}{Y_{(i)}} - Z \\underset{\\sim}{\\hat{\\beta_{(i)}}})$ is minimized. <br>\n",
    "The generalized variance $|(Y-Z\\hat{\\beta})'(Y-Z\\hat{\\beta})|$ is also minimized."
   ]
  },
  {
   "cell_type": "markdown",
   "id": "b29e00a7",
   "metadata": {},
   "source": [
    "- Predicted Values: $\\hat{Y} = Z\\hat{\\beta} = Z(Z'Z)^{-1}Z'Y = HY$\n",
    "- Residuals: $\\hat{\\epsilon} =Y -\\hat{Y} = [I - Z(Z'Z)^{-1}Z']Y = (I-H)Y$\n",
    "- Some Properties: <br>\n",
    "$Z'\\hat{\\epsilon} = Z'[I-Z(Z'Z)^{-1}Z']Y = [Z'-Z']Y = 0$ $\\therefore$ residuals are orthogonal to Z <br>\n",
    "$\\hat{Y}'\\hat{\\epsilon} = \\hat{\\beta}[I - Z(Z'Z)^{-1}Z']Y\n",
    "= [\\hat{\\beta}'Z' - \\hat{\\beta}'Z' ]Y = 0$ $\\therefore$ residuals are orthogonal to $\\hat{Y}$\n",
    "\n",
    "- Error Sum of Squares: <br>\n",
    "$Y'Y = (\\hat{Y}+ \\hat{\\epsilon})'(\\hat{Y}+ \\hat{\\epsilon}) = \\hat{Y}'\\hat{Y} +  \\hat{\\epsilon}' \\hat{\\epsilon}$ <br>\n",
    "$ \\hat{\\epsilon}' \\hat{\\epsilon}= Y'Y-\\hat{Y}'\\hat{Y}=  Y'Y - \\hat{\\beta}'Z'Z\\hat{\\beta}$\n"
   ]
  },
  {
   "cell_type": "markdown",
   "id": "8faebdb8",
   "metadata": {},
   "source": [
    "## b. Construct a 95% simultaneous confidence interval for E(Y1) at Z1=1, Z2=1200, Z3=140, Z4=70, Z5=85. (Python)"
   ]
  },
  {
   "cell_type": "markdown",
   "id": "704e3e8f",
   "metadata": {},
   "source": [
    "# Prediction:\n",
    "$\\hat{Y}_{n \\times m} = Z \\hat{\\beta}_{(r+1)\\times m}$"
   ]
  },
  {
   "cell_type": "markdown",
   "id": "ebbb9ee6",
   "metadata": {},
   "source": [
    "- Assume fixed values $\\underset{\\sim}{Z_0}_{(r+1)\\times 1}$ of the predictor variables <br>\n",
    "Then $\\hat{\\beta}'_{m \\times (r+1)} \\sim N_m( \\beta ' \\underset{\\sim}{Z_0}, \\underset{\\sim}{Z_0}'(Z'Z)^{-1}\\underset{\\sim}{Z_0}\\Sigma )$ <br>\n",
    "<br>\n",
    "- 100(1-$\\alpha$)% simultaneous C.I. for $E(Y_i) = \\underset{\\sim}{Z_0}'\\underset{\\sim}{\\beta}_{(i)}$ <br>\n",
    "$= \\underset{\\sim}{Z_0}'\\underset{\\sim}{\\beta_{(i)}} \\pm \\sqrt{\\frac{m(n-r-1)}{n-r-m}F_{m,n-r-m}(\\alpha)} \\sqrt{\\underset{\\sim}{Z_0}'(Z'Z)^{-1})\\underset{\\sim}{Z_0} ( \\frac{n}{n-r-1}\\hat{\\sigma_{ii}}} )$,   $i = 1,2,...,m$ <br>\n",
    ", where $\\underset{\\sim}{\\beta_{(i)}}$ is the $i$th column of $\\hat{\\beta}$ and $\\sigma_{ii}$ is the $i$the diagonal element of $\\hat{\\Sigma}$"
   ]
  },
  {
   "cell_type": "code",
   "execution_count": 7,
   "id": "a5ea1d61",
   "metadata": {},
   "outputs": [],
   "source": [
    "def sim_CI(z0,z,b_hat,i,alpha=0.05):\n",
    "    b_i = b_hat.iloc[:,i-1]\n",
    "    r, m = b_hat.shape\n",
    "    r -= 1\n",
    "    n = len(z)\n",
    "    \n",
    "    # sigma_ii\n",
    "    sigma = e.T@e/ n\n",
    "    \n",
    "    # C.I.\n",
    "    se = np.sqrt(((m*(n-r-1))/(n-r-m))* stats.f.isf(alpha, m, n-r-m)) * np.sqrt(z0.T@ np.linalg.inv(z.T@z)@z0 * (n/(n-r-1))*sigma[i-1][i-1])\n",
    "    lbd, ubd = z0.T@b_i - se, z0.T@b_i + se\n",
    "    \n",
    "    print('The 100(1-%s) %% simultaneous C.I. for E(Y_%s):  \\n   \\r[%s,%s]' %(alpha, i, lbd[0][0], ubd[0][0]))"
   ]
  },
  {
   "cell_type": "code",
   "execution_count": 8,
   "id": "3dd8ef4f",
   "metadata": {},
   "outputs": [
    {
     "name": "stdout",
     "output_type": "stream",
     "text": [
      "The 100(1-0.05) % simultaneous C.I. for E(Y_1):  \n",
      "   \r",
      "[319.02024178494423,1140.0293024397124]\n"
     ]
    }
   ],
   "source": [
    "z0 = pd.DataFrame([1,1,1200,140,70,85])\n",
    "sim_CI(z0, z, b_hat, i=1,alpha=0.05)"
   ]
  },
  {
   "cell_type": "code",
   "execution_count": null,
   "id": "c88496fb",
   "metadata": {},
   "outputs": [],
   "source": []
  },
  {
   "cell_type": "markdown",
   "id": "a8a12875",
   "metadata": {},
   "source": [
    "## c. Construct a 95% simultaneous confidence interval for individual Y2 at Z1=1, Z2=1200, Z3=140, Z4=70, Z5=85. (Python)"
   ]
  },
  {
   "cell_type": "markdown",
   "id": "e3cdde12",
   "metadata": {},
   "source": [
    "- 100(1-$\\alpha$)% simultaneous C.I. for the individual responses $ Y_{0i}= \\underset{\\sim}{Z_0}'\\underset{\\sim}{\\beta}_{(i)} + \\epsilon_{0i}$ <br>\n",
    "$= \\underset{\\sim}{Z_0}'\\underset{\\sim}{\\beta_{(i)}} \\pm \\sqrt{\\frac{m(n-r-1)}{n-r-m}F_{m,n-r-m}(\\alpha)} \\sqrt{(1 + \\underset{\\sim}{Z_0}'(Z'Z)^{-1})\\underset{\\sim}{Z_0}) ( \\frac{n}{n-r-1}\\hat{\\sigma_{ii}}} )$,   $i = 1,2,...,m$ <br>\n",
    ", where $\\underset{\\sim}{\\beta_{(i)}}$ is the $i$th column of $\\hat{\\beta}$ and $\\sigma_{ii}$ is the $i$the diagonal element of $\\hat{\\Sigma}$"
   ]
  },
  {
   "cell_type": "code",
   "execution_count": 9,
   "id": "637ec5df",
   "metadata": {},
   "outputs": [],
   "source": [
    "def sim_CI_ind(z0,z,b_hat,i,alpha=0.05):\n",
    "    b_i = b_hat.iloc[:, i-1]\n",
    "    r, m = b_hat.shape\n",
    "    r -= 1\n",
    "    n = len(z)\n",
    "    \n",
    "    # sigma_ii\n",
    "    sigma = e.T@e/ n\n",
    "    \n",
    "    # C.I.\n",
    "    se = np.sqrt(((m*(n-r-1))/(n-r-m))* stats.f.isf(alpha, m, n-r-m)) * np.sqrt((1 + z0.T@ np.linalg.inv(z.T@z)@z0 )* (n/(n-r-1))*sigma[i-1][i-1])\n",
    "    lbd, ubd = z0.T@b_i - se, z0.T@b_i + se\n",
    "    \n",
    "    print('The 100(1-%s) %% simultaneous C.I. for Y_0%s:  \\n   \\r[%s,%s]' %(alpha, i, lbd[0][0], ubd[0][0]))"
   ]
  },
  {
   "cell_type": "code",
   "execution_count": 10,
   "id": "b75b4231",
   "metadata": {},
   "outputs": [
    {
     "name": "stdout",
     "output_type": "stream",
     "text": [
      "The 100(1-0.05) % simultaneous C.I. for Y_02:  \n",
      "   \r",
      "[-401.06528932426204,1552.5162238633404]\n"
     ]
    }
   ],
   "source": [
    "sim_CI_ind(z0, z, b_hat, i=2,alpha=0.05)"
   ]
  },
  {
   "cell_type": "markdown",
   "id": "5eb7e3fa",
   "metadata": {},
   "source": [
    "# d. Calculate $\\hat{\\Sigma} = \\frac{1}{n} \\hat{\\epsilon}'\\hat{\\epsilon} = \\frac{1}{n}(Y-Z \\hat{\\beta})'(Y-Z \\hat{\\beta})$ using Python"
   ]
  },
  {
   "cell_type": "markdown",
   "id": "f6b21a28",
   "metadata": {},
   "source": [
    "## Results"
   ]
  },
  {
   "cell_type": "markdown",
   "id": "4ae4c533",
   "metadata": {},
   "source": [
    "- Result 1 <br>\n",
    "$E(\\hat{\\beta})= \\beta$ <br>\n",
    "$Cov(\\underset{\\sim}{\\hat{\\beta}_{(i)}}, \\underset{\\sim}{\\hat{\\beta}_{(k)}}) = \\sigma_{ik} (Z'Z)^{-1}$ <br>\n",
    "$E({\\hat{\\epsilon}})= 0 $ <br>\n",
    "$E ( \\frac{1}{n-r-1}\\hat{\\epsilon}'\\hat{\\epsilon})= \\Sigma$ <br>\n",
    "$\\hat{\\epsilon}$ and  $\\hat{\\beta}$ are uncorrelated."
   ]
  },
  {
   "cell_type": "markdown",
   "id": "97d48dcc",
   "metadata": {},
   "source": [
    "- Result 2 <br>\n",
    "If $\\underset{\\sim}{\\epsilon_{j}}$ has a $N_m(\\underset{\\sim}{0},\\Sigma)$, then$\\hat{\\beta} = (Z'Z)^{-1}Z'Y $ is the MLE of $\\beta$ <br>\n",
    "$\\underset{\\sim}{\\hat{\\beta}_{(i)}}  = N_{r+1}(\\underset{\\sim}{\\beta_{(i)}}, \\sigma_{ii}((Z'Z)^{-1})$\n",
    "$\\hat{\\Sigma} = \\frac{1}{n}(Y-Z\\hat{\\beta})'(Y-Z\\hat{\\beta})$ is an MLE of $\\Sigma$, <br>\n",
    "$n\\hat{\\Sigma}$ is distributed as Wishart: $W_{p,n-r-1}(\\Sigma)$"
   ]
  },
  {
   "cell_type": "code",
   "execution_count": 11,
   "id": "f7a56899",
   "metadata": {},
   "outputs": [
    {
     "data": {
      "text/html": [
       "<div>\n",
       "<style scoped>\n",
       "    .dataframe tbody tr th:only-of-type {\n",
       "        vertical-align: middle;\n",
       "    }\n",
       "\n",
       "    .dataframe tbody tr th {\n",
       "        vertical-align: top;\n",
       "    }\n",
       "\n",
       "    .dataframe thead th {\n",
       "        text-align: right;\n",
       "    }\n",
       "</style>\n",
       "<table border=\"1\" class=\"dataframe\">\n",
       "  <thead>\n",
       "    <tr style=\"text-align: right;\">\n",
       "      <th></th>\n",
       "      <th>0</th>\n",
       "      <th>1</th>\n",
       "    </tr>\n",
       "  </thead>\n",
       "  <tbody>\n",
       "    <tr>\n",
       "      <th>0</th>\n",
       "      <td>51176.959440</td>\n",
       "      <td>45039.792706</td>\n",
       "    </tr>\n",
       "    <tr>\n",
       "      <th>1</th>\n",
       "      <td>45039.792706</td>\n",
       "      <td>55335.817611</td>\n",
       "    </tr>\n",
       "  </tbody>\n",
       "</table>\n",
       "</div>"
      ],
      "text/plain": [
       "              0             1\n",
       "0  51176.959440  45039.792706\n",
       "1  45039.792706  55335.817611"
      ]
     },
     "execution_count": 11,
     "metadata": {},
     "output_type": "execute_result"
    }
   ],
   "source": [
    "n = len(z)\n",
    "sigma = e.T@e/ n\n",
    "sigma"
   ]
  },
  {
   "cell_type": "markdown",
   "id": "dc568c3c",
   "metadata": {},
   "source": [
    "Note that \n",
    "- Multivariate regression requires no new computational problems.\n",
    "- Univariate least squares $\\underset{\\sim}{\\hat{\\beta}_{(i)}}$ are computed individually for each response variable.\n",
    "- Diagnositcs check must be done as in univariate regression."
   ]
  },
  {
   "cell_type": "markdown",
   "id": "59ffbc70",
   "metadata": {},
   "source": [
    "# e. Compute the Wilk’s lambda value to test whether (Y1, Y2) are not dependent on (Z3, Z4, Z5). (Use Python)."
   ]
  },
  {
   "cell_type": "markdown",
   "id": "d2bff0b0",
   "metadata": {},
   "source": [
    "- Hypothesis Testing \n",
    "    $H_0$ : responses do not depend on $Z_{q+1},Z_{q+2}, ... , Z_{r}$\n",
    "    $\\Leftrightarrow H_0: \\beta_{(2 )} = 0$"
   ]
  },
  {
   "cell_type": "markdown",
   "id": "d24bc862",
   "metadata": {},
   "source": [
    "## Full Model vs. Reduced Model \n",
    "- Set $Z = [Z_{1 \\;\\; n \\times (q+1)}: Z_{2 \\;\\; n \\times (q+1)}]$ <br>\n",
    "Then $Z \\beta = [Z_1 : Z_2][\\beta_{(1)}, .., \\beta_{(2)}]' = Z_1\\beta_{1} + Z_2\\beta_{(2)}$ <br>\n",
    "Under $H_0$,  $Y= Z\\beta_{(1)} + \\epsilon$ <br>\n",
    "<br>\n",
    "- Let $E = n\\hat{\\Sigma} = (Y-Z\\hat{\\beta})'(Y-Z\\hat{\\beta})$ : Full Model <br>\n",
    "$H = n(\\hat{\\Sigma_1} - \\hat{\\Sigma})$ <br>\n",
    "where $E_1 = n\\hat{\\Sigma_1} = (Y-Z\\hat{\\beta}_{(1)})'(Y-Z\\hat{\\beta}_{(1)})$ : Under $H_0$ <br>\n",
    "<br>\n",
    "- Let $\\lambda_1 \\geq \\lambda_2 \\geq ... \\geq \\lambda_s$ be non-zero eigenvalues of $HE^{-1}, s= min(m,r-q)$\n"
   ]
  },
  {
   "cell_type": "markdown",
   "id": "da591ff5",
   "metadata": {},
   "source": [
    "## Four Test Statistics\n",
    "\n",
    "- Wilk's Lambda = $ \\prod_{i=1}^{s} \\frac{1}{1+\\lambda_i} = \\frac{|E|}{|E+H|}$ \n",
    "- Pillai's Trace = $\\Sigma_{i=1}^{s} \\frac{\\lambda_i}{1+\\lambda_i} = tr[H(H+E)^{-1}]$\n",
    "- Hotelling-Lawley Trace = $\\Sigma_{i=1}^{s} \\lambda_i = tr[HE^{-1}]$\n",
    "- Roy's Greatest Root = $\\lambda_1$"
   ]
  },
  {
   "cell_type": "code",
   "execution_count": 12,
   "id": "4e1fe648",
   "metadata": {},
   "outputs": [
    {
     "name": "stdout",
     "output_type": "stream",
     "text": [
      "Wilk's Lambda = 0.4405021444258225\n"
     ]
    }
   ],
   "source": [
    "# partition the variables  (Z3,Z4,Z5 is zero)\n",
    "z1 = amit[['constant', 'Z1','Z2']]\n",
    "b_hat1 = np.linalg.inv(z1.transpose()@z1)@z1.transpose()@y\n",
    "e1 =  np.subtract(y , np.matmul(z1,b_hat1))\n",
    "\n",
    "#full model\n",
    "E = e.T@e\n",
    "#reduced model\n",
    "E1 = e1.T@e1\n",
    "H = E1 - E\n",
    "\n",
    "#Wilk's Lambda\n",
    "wilk = det(E)/det(E+H)\n",
    "\n",
    "print('Wilk\\'s Lambda =', wilk  )"
   ]
  },
  {
   "cell_type": "markdown",
   "id": "9b9be4cd",
   "metadata": {},
   "source": [
    "## f. Test the null hypothesis that (Y1, Y2) are not dependent on (Z3, Z4, Z5) at a=0.05. (Use Python)."
   ]
  },
  {
   "cell_type": "markdown",
   "id": "0ce8e7a1",
   "metadata": {},
   "source": [
    "- Sampling Distribution of the Wilk's Lambda <br>\n",
    "Let $Z$ be pf full rank $r+1$ and $(r+1)+m \\leq n$ <br>\n",
    "Let $\\epsilon$ be normally distributed <br>\n",
    "Under $H_0$, <br>\n",
    "$-[n-r-1-\\frac{1}{2}(m-r+q+1)]ln(\\Lambda^*) \\sim \\chi^{2}_{m(r-q)}$\n"
   ]
  },
  {
   "cell_type": "code",
   "execution_count": 13,
   "id": "61fb1952",
   "metadata": {},
   "outputs": [
    {
     "name": "stdout",
     "output_type": "stream",
     "text": [
      "Test Statistics : 9.018\n",
      "\n",
      "Do not reject H0, p_value = 0.17255488315212064\n"
     ]
    }
   ],
   "source": [
    "def test_H0(alpha=0.05):\n",
    "    _, q = z1.shape \n",
    "    q -=1\n",
    "    r, m = b_hat.shape\n",
    "    r -= 1\n",
    "    stat =  -(n-r-1-(m-r+q+1)/2)*np.log(wilk)\n",
    "    \n",
    "    p_value = 1-chi2.cdf(stat, (m*(r-q)))\n",
    "    if p_value <= 0.05 :\n",
    "        print(f'Test Statistics : {np.round(stat,3)}')\n",
    "        print(f'\\nReject H0, p_value = {p_value}')\n",
    "    else :\n",
    "        print(f'Test Statistics : {np.round(stat,3)}')\n",
    "        print(f'\\nDo not reject H0, p_value = {p_value}' )\n",
    "    \n",
    "test_H0()"
   ]
  }
 ],
 "metadata": {
  "kernelspec": {
   "display_name": "Python 3",
   "language": "python",
   "name": "python3"
  },
  "language_info": {
   "codemirror_mode": {
    "name": "ipython",
    "version": 3
   },
   "file_extension": ".py",
   "mimetype": "text/x-python",
   "name": "python",
   "nbconvert_exporter": "python",
   "pygments_lexer": "ipython3",
   "version": "3.8.8"
  }
 },
 "nbformat": 4,
 "nbformat_minor": 5
}
